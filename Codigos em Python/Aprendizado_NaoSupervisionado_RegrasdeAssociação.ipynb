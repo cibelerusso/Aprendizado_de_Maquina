{
  "nbformat": 4,
  "nbformat_minor": 0,
  "metadata": {
    "colab": {
      "provenance": [],
      "authorship_tag": "ABX9TyNYgB9FgiburjySn8MeBpYy",
      "include_colab_link": true
    },
    "kernelspec": {
      "name": "python3",
      "display_name": "Python 3"
    },
    "language_info": {
      "name": "python"
    }
  },
  "cells": [
    {
      "cell_type": "markdown",
      "metadata": {
        "id": "view-in-github",
        "colab_type": "text"
      },
      "source": [
        "<a href=\"https://colab.research.google.com/github/cibelerusso/Aprendizado_de_Maquina/blob/main/Codigos%20em%20Python/Aprendizado_NaoSupervisionado_RegrasdeAssocia%C3%A7%C3%A3o.ipynb\" target=\"_parent\"><img src=\"https://colab.research.google.com/assets/colab-badge.svg\" alt=\"Open In Colab\"/></a>"
      ]
    },
    {
      "cell_type": "markdown",
      "source": [
        "# SME0829 Aprendizado de Máquina\n",
        "\n",
        "\n",
        "por **Cibele Russo**\n",
        "\n",
        "**ICMC/USP - São Carlos SP**\n",
        "\n",
        "\n",
        "## Exemplo Regras de associação: Apriori"
      ],
      "metadata": {
        "id": "OG3d-Kz9lee-"
      }
    },
    {
      "cell_type": "code",
      "execution_count": 1,
      "metadata": {
        "id": "TfxUowrklQyq"
      },
      "outputs": [],
      "source": [
        "# Carrega bibliotecas\n",
        "import pandas as pd\n",
        "from mlxtend.preprocessing import TransactionEncoder\n",
        "from mlxtend.frequent_patterns import apriori, association_rules\n"
      ]
    },
    {
      "cell_type": "code",
      "source": [
        "# Exemplo de base de dados\n",
        "dataset = [\n",
        "    ['cerveja', 'pão', 'queijo', 'batata'],\n",
        "    ['leite', 'pão', 'manteiga'],\n",
        "    ['cerveja', 'pão', 'frutas'],\n",
        "    ['leite', 'frutas', 'manteiga'],\n",
        "    ['leite', 'pão', 'frutas', 'manteiga'],\n",
        "    ['cerveja', 'pão', 'frutas'],\n",
        "    ['pão', 'manteiga'],\n",
        "    ['leite', 'pão', 'frutas', 'cerveja'],\n",
        "    ['cerveja', 'pão', 'queijo', 'batata'],\n",
        "    ['leite', 'pão', 'manteiga'],\n",
        "    ['cerveja', 'pão', 'frutas'],\n",
        "    ['leite', 'frutas', 'manteiga'],\n",
        "    ['leite', 'pão', 'frutas', 'manteiga'],\n",
        "    ['cerveja', 'pão', 'frutas'],\n",
        "    ['pão', 'manteiga'],\n",
        "    ['leite', 'pão', 'frutas', 'cerveja'],\n",
        "    ['cerveja', 'pão', 'queijo', 'batata'],\n",
        "    ['leite', 'pão', 'manteiga'],\n",
        "    ['cerveja', 'pão', 'frutas'],\n",
        "    ['leite', 'frutas', 'manteiga'],\n",
        "    ['leite', 'pão', 'frutas', 'manteiga'],\n",
        "    ['cerveja', 'pão', 'frutas'],\n",
        "    ['pão', 'manteiga'],\n",
        "    ['leite', 'pão', 'frutas', 'cerveja'],\n",
        "    ['cerveja', 'pão', 'queijo', 'batata'],\n",
        "    ['leite', 'pão', 'manteiga'],\n",
        "    ['cerveja', 'pão', 'frutas'],\n",
        "    ['leite', 'frutas', 'manteiga'],\n",
        "    ['leite', 'pão', 'frutas', 'manteiga'],\n",
        "    ['cerveja', 'pão', 'frutas'],\n",
        "    ['pão', 'manteiga'],\n",
        "    ['leite', 'pão', 'frutas', 'cerveja'],\n",
        "]\n"
      ],
      "metadata": {
        "id": "QJjghH2KllYT"
      },
      "execution_count": 2,
      "outputs": []
    },
    {
      "cell_type": "code",
      "source": [
        "# Transformar os dados em um formato apropriado para o algoritmo Apriori\n",
        "te = TransactionEncoder()\n",
        "te_ary = te.fit(dataset).transform(dataset)\n",
        "df = pd.DataFrame(te_ary, columns=te.columns_)\n"
      ],
      "metadata": {
        "id": "SmLtd_vylrSc"
      },
      "execution_count": 3,
      "outputs": []
    },
    {
      "cell_type": "code",
      "source": [
        "# Encontrar os itens frequentes usando o algoritmo Apriori\n",
        "frequent_itemsets = apriori(df, min_support=0.2, use_colnames=True)\n"
      ],
      "metadata": {
        "id": "PLzwEbJIltY3"
      },
      "execution_count": 4,
      "outputs": []
    },
    {
      "cell_type": "code",
      "source": [
        "# Gerar as regras de associação\n",
        "association_rules = association_rules(frequent_itemsets, metric=\"confidence\", min_threshold=0.5)\n"
      ],
      "metadata": {
        "id": "RV-WQvKxlu-K"
      },
      "execution_count": 5,
      "outputs": []
    },
    {
      "cell_type": "code",
      "source": [
        "# Imprimir as regras de associação\n",
        "print(association_rules)"
      ],
      "metadata": {
        "colab": {
          "base_uri": "https://localhost:8080/"
        },
        "id": "c52x7S2olwQi",
        "outputId": "75e57f7c-95d4-4692-917a-91803eb06a3c"
      },
      "execution_count": 6,
      "outputs": [
        {
          "output_type": "stream",
          "name": "stdout",
          "text": [
            "           antecedents         consequents  antecedent support  \\\n",
            "0             (frutas)           (cerveja)               0.625   \n",
            "1            (cerveja)            (frutas)               0.500   \n",
            "2                (pão)           (cerveja)               0.875   \n",
            "3            (cerveja)               (pão)               0.500   \n",
            "4             (frutas)             (leite)               0.625   \n",
            "5              (leite)            (frutas)               0.500   \n",
            "6           (manteiga)            (frutas)               0.500   \n",
            "7             (frutas)               (pão)               0.625   \n",
            "8                (pão)            (frutas)               0.875   \n",
            "9           (manteiga)             (leite)               0.500   \n",
            "10             (leite)          (manteiga)               0.500   \n",
            "11             (leite)               (pão)               0.500   \n",
            "12          (manteiga)               (pão)               0.500   \n",
            "13       (frutas, pão)           (cerveja)               0.500   \n",
            "14   (frutas, cerveja)               (pão)               0.375   \n",
            "15      (pão, cerveja)            (frutas)               0.500   \n",
            "16            (frutas)      (pão, cerveja)               0.625   \n",
            "17           (cerveja)       (frutas, pão)               0.500   \n",
            "18  (manteiga, frutas)             (leite)               0.250   \n",
            "19   (manteiga, leite)            (frutas)               0.375   \n",
            "20     (frutas, leite)          (manteiga)               0.375   \n",
            "21          (manteiga)     (frutas, leite)               0.500   \n",
            "22             (leite)  (manteiga, frutas)               0.500   \n",
            "23       (frutas, pão)             (leite)               0.500   \n",
            "24     (frutas, leite)               (pão)               0.375   \n",
            "25        (pão, leite)            (frutas)               0.375   \n",
            "26             (leite)       (frutas, pão)               0.500   \n",
            "27     (manteiga, pão)             (leite)               0.375   \n",
            "28   (manteiga, leite)               (pão)               0.375   \n",
            "29        (pão, leite)          (manteiga)               0.375   \n",
            "30          (manteiga)        (pão, leite)               0.500   \n",
            "31             (leite)     (manteiga, pão)               0.500   \n",
            "\n",
            "    consequent support  support  confidence      lift  leverage  conviction  \n",
            "0                0.500    0.375    0.600000  1.200000  0.062500    1.250000  \n",
            "1                0.625    0.375    0.750000  1.200000  0.062500    1.500000  \n",
            "2                0.500    0.500    0.571429  1.142857  0.062500    1.166667  \n",
            "3                0.875    0.500    1.000000  1.142857  0.062500         inf  \n",
            "4                0.500    0.375    0.600000  1.200000  0.062500    1.250000  \n",
            "5                0.625    0.375    0.750000  1.200000  0.062500    1.500000  \n",
            "6                0.625    0.250    0.500000  0.800000 -0.062500    0.750000  \n",
            "7                0.875    0.500    0.800000  0.914286 -0.046875    0.625000  \n",
            "8                0.625    0.500    0.571429  0.914286 -0.046875    0.875000  \n",
            "9                0.500    0.375    0.750000  1.500000  0.125000    2.000000  \n",
            "10               0.500    0.375    0.750000  1.500000  0.125000    2.000000  \n",
            "11               0.875    0.375    0.750000  0.857143 -0.062500    0.500000  \n",
            "12               0.875    0.375    0.750000  0.857143 -0.062500    0.500000  \n",
            "13               0.500    0.375    0.750000  1.500000  0.125000    2.000000  \n",
            "14               0.875    0.375    1.000000  1.142857  0.046875         inf  \n",
            "15               0.625    0.375    0.750000  1.200000  0.062500    1.500000  \n",
            "16               0.500    0.375    0.600000  1.200000  0.062500    1.250000  \n",
            "17               0.500    0.375    0.750000  1.500000  0.125000    2.000000  \n",
            "18               0.500    0.250    1.000000  2.000000  0.125000         inf  \n",
            "19               0.625    0.250    0.666667  1.066667  0.015625    1.125000  \n",
            "20               0.500    0.250    0.666667  1.333333  0.062500    1.500000  \n",
            "21               0.375    0.250    0.500000  1.333333  0.062500    1.250000  \n",
            "22               0.250    0.250    0.500000  2.000000  0.125000    1.500000  \n",
            "23               0.500    0.250    0.500000  1.000000  0.000000    1.000000  \n",
            "24               0.875    0.250    0.666667  0.761905 -0.078125    0.375000  \n",
            "25               0.625    0.250    0.666667  1.066667  0.015625    1.125000  \n",
            "26               0.500    0.250    0.500000  1.000000  0.000000    1.000000  \n",
            "27               0.500    0.250    0.666667  1.333333  0.062500    1.500000  \n",
            "28               0.875    0.250    0.666667  0.761905 -0.078125    0.375000  \n",
            "29               0.500    0.250    0.666667  1.333333  0.062500    1.500000  \n",
            "30               0.375    0.250    0.500000  1.333333  0.062500    1.250000  \n",
            "31               0.375    0.250    0.500000  1.333333  0.062500    1.250000  \n"
          ]
        }
      ]
    }
  ]
}