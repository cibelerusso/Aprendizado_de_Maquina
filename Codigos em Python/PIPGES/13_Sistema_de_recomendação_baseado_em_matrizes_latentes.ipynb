{
  "nbformat": 4,
  "nbformat_minor": 0,
  "metadata": {
    "colab": {
      "provenance": []
    },
    "kernelspec": {
      "name": "python3",
      "display_name": "Python 3"
    },
    "language_info": {
      "name": "python"
    }
  },
  "cells": [
    {
      "cell_type": "markdown",
      "source": [
        "## EST5534 Aprendizado de Máquina Estatístico\n",
        "### por Cibele Russo\n",
        "\n",
        "### ICMC/USP - São Carlos SP\n",
        "\n",
        "## Sistema de recomendação baseado em matrizes latentes\n"
      ],
      "metadata": {
        "id": "WejFCBDUzHTc"
      }
    },
    {
      "cell_type": "code",
      "execution_count": 8,
      "metadata": {
        "id": "tQypPBVCZSzn"
      },
      "outputs": [],
      "source": [
        "import numpy as np\n",
        "import pandas as pd\n",
        "\n",
        "class SistemaRecomendacao:\n",
        "    def __init__(self, num_usuarios, num_filmes, fator_latente=5, taxa_aprendizado=0.05, num_iteracoes=1000, lambda_reg=0.1):\n",
        "        self.num_usuarios = num_usuarios\n",
        "        self.num_filmes = num_filmes\n",
        "        self.fator_latente = fator_latente\n",
        "        self.taxa_aprendizado = taxa_aprendizado\n",
        "        self.num_iteracoes = num_iteracoes\n",
        "        self.lambda_reg = lambda_reg\n",
        "\n",
        "    def treinar(self, matriz_avaliacoes):\n",
        "        self.matriz_usuario_item = matriz_avaliacoes\n",
        "        self.matriz_latente_usuario = np.random.rand(self.num_usuarios, self.fator_latente)\n",
        "        self.matriz_latente_item = np.random.rand(self.num_filmes, self.fator_latente)\n",
        "\n",
        "        for _ in range(self.num_iteracoes):\n",
        "            for i in range(self.num_usuarios):\n",
        "                for j in range(self.num_filmes):\n",
        "                    if matriz_avaliacoes[i][j] > 0:\n",
        "                        erro_ij = matriz_avaliacoes[i][j] - np.dot(self.matriz_latente_usuario[i, :], self.matriz_latente_item[j, :].T)\n",
        "                        for k in range(self.fator_latente):\n",
        "                            self.matriz_latente_usuario[i][k] += self.taxa_aprendizado * (2 * erro_ij * self.matriz_latente_item[j][k] - self.lambda_reg * self.matriz_latente_usuario[i][k])\n",
        "                            self.matriz_latente_item[j][k] += self.taxa_aprendizado * (2 * erro_ij * self.matriz_latente_usuario[i][k] - self.lambda_reg * self.matriz_latente_item[j][k])\n",
        "\n",
        "    def prever_avaliacao(self, usuario, item):\n",
        "        return np.dot(self.matriz_latente_usuario[usuario, :], self.matriz_latente_item[item, :].T)\n"
      ]
    },
    {
      "cell_type": "code",
      "source": [
        "\n",
        "# Exemplo de uso\n",
        "if __name__ == \"__main__\":\n",
        "    # Número de usuários e filmes\n",
        "    num_usuarios = 8\n",
        "    num_filmes = 10\n",
        "\n",
        "    # Matriz esparsa de avaliações (usuário x filmes)\n",
        "    matriz_avaliacoes = np.array([\n",
        "    [5, 0, 4, 0, 1, 0, 0, 3, 0, 2],\n",
        "    [0, 3, 0, 0, 2, 0, 0, 4, 0, 1],\n",
        "    [1, 0, 2, 4, 0, 0, 0, 5, 0, 3],\n",
        "    [0, 2, 0, 5, 0, 0, 0, 4, 0, 1],\n",
        "    [4, 0, 3, 0, 0, 1, 0, 2, 0, 5],\n",
        "    [0, 0, 0, 0, 3, 0, 0, 4, 0, 2],\n",
        "    [2, 0, 0, 0, 4, 0, 0, 1, 0, 3],\n",
        "    [0, 1, 0, 0, 5, 0, 0, 2, 0, 4],\n",
        "])\n",
        "\n",
        "    # Criar e treinar o sistema de recomendação\n",
        "    sistema_recomendacao = SistemaRecomendacao(num_usuarios, num_filmes)\n",
        "    sistema_recomendacao.treinar(matriz_avaliacoes)\n",
        "\n",
        "    # Fazer uma previsão para uma avaliação ausente (usuário 1, item 2)\n",
        "    usuario = 1\n",
        "    item = 2\n",
        "    previsao = sistema_recomendacao.prever_avaliacao(usuario, item)\n",
        "\n",
        "    print(f\"A previsão de avaliação para o usuário {usuario} e item {item} é: {previsao}\")\n",
        "\n"
      ],
      "metadata": {
        "id": "0rj2RGYDmzfs",
        "colab": {
          "base_uri": "https://localhost:8080/"
        },
        "outputId": "cc17563b-4540-49c7-f4f5-0b2781028477"
      },
      "execution_count": 9,
      "outputs": [
        {
          "output_type": "stream",
          "name": "stdout",
          "text": [
            "A previsão de avaliação para o usuário 1 e item 2 é: 1.8876740733221973\n"
          ]
        }
      ]
    },
    {
      "cell_type": "code",
      "source": [
        "# Fazer previsões de avaliação para o usuário 2 em todos os filmes\n",
        "usuario = 2\n",
        "previsoes_usuario_2 = []\n",
        "\n",
        "for filme in range(num_filmes):\n",
        "    previsao = sistema_recomendacao.prever_avaliacao(usuario, filme)\n",
        "    previsoes_usuario_2.append(previsao)\n",
        "\n",
        "# Exibir as previsões\n",
        "print(f\"Previsões de avaliação para o usuário {usuario} em todos os filmes:\")\n",
        "for filme, previsao in enumerate(previsoes_usuario_2):\n",
        "    print(f\"Filme {filme + 1}: {previsao}\")"
      ],
      "metadata": {
        "colab": {
          "base_uri": "https://localhost:8080/"
        },
        "id": "2UeOrbsTU3OT",
        "outputId": "1fd3c7ec-babc-4104-fdb6-52396be2c77f"
      },
      "execution_count": 10,
      "outputs": [
        {
          "output_type": "stream",
          "name": "stdout",
          "text": [
            "Previsões de avaliação para o usuário 2 em todos os filmes:\n",
            "Filme 1: 1.0462260328558093\n",
            "Filme 2: 2.4855477122888305\n",
            "Filme 3: 2.023404131273237\n",
            "Filme 4: 4.054344175007106\n",
            "Filme 5: 3.435491389566918\n",
            "Filme 6: 0.4916583903724086\n",
            "Filme 7: 2.4697409644720776\n",
            "Filme 8: 4.869534373293537\n",
            "Filme 9: 1.0852102995081967\n",
            "Filme 10: 2.972163839483992\n"
          ]
        }
      ]
    },
    {
      "cell_type": "code",
      "source": [],
      "metadata": {
        "id": "8-LcBX9tWKeH"
      },
      "execution_count": null,
      "outputs": []
    }
  ]
}