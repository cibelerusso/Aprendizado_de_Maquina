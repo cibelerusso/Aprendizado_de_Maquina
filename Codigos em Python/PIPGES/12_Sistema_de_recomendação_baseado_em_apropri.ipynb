{
  "nbformat": 4,
  "nbformat_minor": 0,
  "metadata": {
    "colab": {
      "provenance": []
    },
    "kernelspec": {
      "name": "python3",
      "display_name": "Python 3"
    },
    "language_info": {
      "name": "python"
    }
  },
  "cells": [
    {
      "cell_type": "markdown",
      "source": [
        "## EST5534 Aprendizado de Máquina Estatístico\n",
        "### por Cibele Russo\n",
        "\n",
        "### ICMC/USP - São Carlos SP\n",
        "\n",
        "## Sistema de recomendação baseado no Apriori\n"
      ],
      "metadata": {
        "id": "2cq12Q8Lyqkh"
      }
    },
    {
      "cell_type": "code",
      "source": [
        "!pip install mlxtend\n"
      ],
      "metadata": {
        "colab": {
          "base_uri": "https://localhost:8080/"
        },
        "id": "OR5uyZrnaEB-",
        "outputId": "b80b798b-906b-46fa-b021-6becbe71718a"
      },
      "execution_count": 1,
      "outputs": [
        {
          "output_type": "stream",
          "name": "stdout",
          "text": [
            "Requirement already satisfied: mlxtend in /usr/local/lib/python3.10/dist-packages (0.22.0)\n",
            "Requirement already satisfied: scipy>=1.2.1 in /usr/local/lib/python3.10/dist-packages (from mlxtend) (1.11.3)\n",
            "Requirement already satisfied: numpy>=1.16.2 in /usr/local/lib/python3.10/dist-packages (from mlxtend) (1.23.5)\n",
            "Requirement already satisfied: pandas>=0.24.2 in /usr/local/lib/python3.10/dist-packages (from mlxtend) (1.5.3)\n",
            "Requirement already satisfied: scikit-learn>=1.0.2 in /usr/local/lib/python3.10/dist-packages (from mlxtend) (1.2.2)\n",
            "Requirement already satisfied: matplotlib>=3.0.0 in /usr/local/lib/python3.10/dist-packages (from mlxtend) (3.7.1)\n",
            "Requirement already satisfied: joblib>=0.13.2 in /usr/local/lib/python3.10/dist-packages (from mlxtend) (1.3.2)\n",
            "Requirement already satisfied: setuptools in /usr/local/lib/python3.10/dist-packages (from mlxtend) (67.7.2)\n",
            "Requirement already satisfied: contourpy>=1.0.1 in /usr/local/lib/python3.10/dist-packages (from matplotlib>=3.0.0->mlxtend) (1.2.0)\n",
            "Requirement already satisfied: cycler>=0.10 in /usr/local/lib/python3.10/dist-packages (from matplotlib>=3.0.0->mlxtend) (0.12.1)\n",
            "Requirement already satisfied: fonttools>=4.22.0 in /usr/local/lib/python3.10/dist-packages (from matplotlib>=3.0.0->mlxtend) (4.44.3)\n",
            "Requirement already satisfied: kiwisolver>=1.0.1 in /usr/local/lib/python3.10/dist-packages (from matplotlib>=3.0.0->mlxtend) (1.4.5)\n",
            "Requirement already satisfied: packaging>=20.0 in /usr/local/lib/python3.10/dist-packages (from matplotlib>=3.0.0->mlxtend) (23.2)\n",
            "Requirement already satisfied: pillow>=6.2.0 in /usr/local/lib/python3.10/dist-packages (from matplotlib>=3.0.0->mlxtend) (9.4.0)\n",
            "Requirement already satisfied: pyparsing>=2.3.1 in /usr/local/lib/python3.10/dist-packages (from matplotlib>=3.0.0->mlxtend) (3.1.1)\n",
            "Requirement already satisfied: python-dateutil>=2.7 in /usr/local/lib/python3.10/dist-packages (from matplotlib>=3.0.0->mlxtend) (2.8.2)\n",
            "Requirement already satisfied: pytz>=2020.1 in /usr/local/lib/python3.10/dist-packages (from pandas>=0.24.2->mlxtend) (2023.3.post1)\n",
            "Requirement already satisfied: threadpoolctl>=2.0.0 in /usr/local/lib/python3.10/dist-packages (from scikit-learn>=1.0.2->mlxtend) (3.2.0)\n",
            "Requirement already satisfied: six>=1.5 in /usr/local/lib/python3.10/dist-packages (from python-dateutil>=2.7->matplotlib>=3.0.0->mlxtend) (1.16.0)\n"
          ]
        }
      ]
    },
    {
      "cell_type": "code",
      "execution_count": 2,
      "metadata": {
        "colab": {
          "base_uri": "https://localhost:8080/"
        },
        "id": "tQypPBVCZSzn",
        "outputId": "c02ada76-6da4-4512-ae4e-512b3e089dd9"
      },
      "outputs": [
        {
          "output_type": "stream",
          "name": "stdout",
          "text": [
            "Association Rules:\n",
            "                  antecedents   consequents  support  confidence\n",
            "0                    (batata)     (cerveja)    0.125         1.0\n",
            "1                    (batata)         (pão)    0.125         1.0\n",
            "2                    (batata)      (queijo)    0.125         1.0\n",
            "3                    (queijo)      (batata)    0.125         1.0\n",
            "4                    (frutas)     (cerveja)    0.375         0.6\n",
            "..                        ...           ...      ...         ...\n",
            "72  (manteiga, frutas, leite)         (pão)    0.125         0.5\n",
            "73    (manteiga, frutas, pão)       (leite)    0.125         1.0\n",
            "74     (manteiga, leite, pão)      (frutas)    0.125         0.5\n",
            "75       (frutas, leite, pão)    (manteiga)    0.125         0.5\n",
            "76         (manteiga, frutas)  (leite, pão)    0.125         0.5\n",
            "\n",
            "[77 rows x 4 columns]\n"
          ]
        }
      ],
      "source": [
        "import pandas as pd\n",
        "from mlxtend.preprocessing import TransactionEncoder\n",
        "from mlxtend.frequent_patterns import apriori, association_rules\n",
        "\n",
        "data = dataset = [\n",
        "    ['cerveja', 'pão', 'queijo', 'batata'],\n",
        "    ['leite', 'pão', 'manteiga'],\n",
        "    ['cerveja', 'pão', 'frutas'],\n",
        "    ['leite', 'frutas', 'manteiga'],\n",
        "    ['leite', 'pão', 'frutas', 'manteiga'],\n",
        "    ['cerveja', 'pão', 'frutas'],\n",
        "    ['pão', 'manteiga'],\n",
        "    ['leite', 'pão', 'frutas', 'cerveja'],\n",
        "    ['cerveja', 'pão', 'queijo', 'batata'],\n",
        "    ['leite', 'pão', 'manteiga'],\n",
        "    ['cerveja', 'pão', 'frutas'],\n",
        "    ['leite', 'frutas', 'manteiga'],\n",
        "    ['leite', 'pão', 'frutas', 'manteiga'],\n",
        "    ['cerveja', 'pão', 'frutas'],\n",
        "    ['pão', 'manteiga'],\n",
        "    ['leite', 'pão', 'frutas', 'cerveja'],\n",
        "    ['cerveja', 'pão', 'queijo', 'batata'],\n",
        "    ['leite', 'pão', 'manteiga'],\n",
        "    ['cerveja', 'pão', 'frutas'],\n",
        "    ['leite', 'frutas', 'manteiga'],\n",
        "    ['leite', 'pão', 'frutas', 'manteiga'],\n",
        "    ['cerveja', 'pão', 'frutas'],\n",
        "    ['pão', 'manteiga'],\n",
        "    ['leite', 'pão', 'frutas', 'cerveja'],\n",
        "    ['cerveja', 'pão', 'queijo', 'batata'],\n",
        "    ['leite', 'pão', 'manteiga'],\n",
        "    ['cerveja', 'pão', 'frutas'],\n",
        "    ['leite', 'frutas', 'manteiga'],\n",
        "    ['leite', 'pão', 'frutas', 'manteiga'],\n",
        "    ['cerveja', 'pão', 'frutas'],\n",
        "    ['pão', 'manteiga'],\n",
        "    ['leite', 'pão', 'frutas', 'cerveja'],\n",
        "]\n",
        "\n",
        "\n",
        "# Convert the dataset into a transaction format\n",
        "te = TransactionEncoder()\n",
        "te_ary = te.fit(data).transform(data)\n",
        "df = pd.DataFrame(te_ary, columns=te.columns_)\n",
        "\n",
        "# Use Apriori algorithm to find frequent itemsets\n",
        "frequent_itemsets = apriori(df, min_support=0.1, use_colnames=True)\n",
        "\n",
        "# Generate association rules\n",
        "rules = association_rules(frequent_itemsets, metric=\"confidence\", min_threshold=0.5)\n",
        "\n",
        "# Display the association rules\n",
        "print(\"Association Rules:\")\n",
        "print(rules[['antecedents', 'consequents', 'support', 'confidence']])\n",
        "\n",
        "# Function to get recommendations for a specific item\n",
        "def get_recommendations(item_name, rules):\n",
        "    recommendations = rules[rules['antecedents'].apply(lambda x: item_name in x)]['consequents'].tolist()\n",
        "    return recommendations\n"
      ]
    },
    {
      "cell_type": "code",
      "source": [
        "import warnings\n",
        "warnings.filterwarnings(\"ignore\", category=DeprecationWarning)\n",
        "\n",
        "def get_recommendations(items, rules):\n",
        "    recommendations = set()\n",
        "    for item in items:\n",
        "        # Procura regras onde o item está nos antecedentes\n",
        "        relevant_rules = rules[rules['antecedents'].apply(lambda x: item in set(x))]\n",
        "        # Adiciona os consequents das regras relevantes à lista de recomendações\n",
        "        consequents_sets = relevant_rules['consequents'].apply(lambda x: set(x))\n",
        "        recommendations.update(set.union(*consequents_sets))\n",
        "\n",
        "    # Remove itens que já estão na lista de compras\n",
        "    recommendations -= set(items)\n",
        "\n",
        "    return list(recommendations)"
      ],
      "metadata": {
        "colab": {
          "base_uri": "https://localhost:8080/"
        },
        "id": "IC_eBrYynVbr",
        "outputId": "819aab16-7c1b-44a7-cbb0-53e91b286b17"
      },
      "execution_count": 3,
      "outputs": [
        {
          "output_type": "stream",
          "name": "stderr",
          "text": [
            "/usr/local/lib/python3.10/dist-packages/ipykernel/ipkernel.py:283: DeprecationWarning: `should_run_async` will not call `transform_cell` automatically in the future. Please pass the result to `transformed_cell` argument and any exception that happen during thetransform in `preprocessing_exc_tuple` in IPython 7.17 and above.\n",
            "  and should_run_async(code)\n"
          ]
        }
      ]
    },
    {
      "cell_type": "code",
      "source": [
        "# Suponha que pão e manteiga estão no carrinho de compras. Obtenha recomendações para outros itens.\n",
        "items_in_basket = ['pão', 'manteiga']\n",
        "recommendations = get_recommendations(items_in_basket, rules)\n",
        "\n",
        "print(f\"Recomendações para {items_in_basket}: {recommendations}\")\n"
      ],
      "metadata": {
        "id": "1h_8S0QKaBr3",
        "colab": {
          "base_uri": "https://localhost:8080/"
        },
        "outputId": "fe1eda22-6c14-4ed4-e293-f75cda421111"
      },
      "execution_count": 4,
      "outputs": [
        {
          "output_type": "stream",
          "name": "stdout",
          "text": [
            "Recomendações para ['pão', 'manteiga']: ['batata', 'queijo', 'frutas', 'cerveja', 'leite']\n"
          ]
        }
      ]
    },
    {
      "cell_type": "code",
      "source": [
        "# Suponha que queijo está no carrinho de compras. Obtenha recomendações para outros itens.\n",
        "items_in_basket = ['queijo']\n",
        "recommendations = get_recommendations(items_in_basket, rules)\n",
        "\n",
        "print(f\"Recomendações para {items_in_basket}: {recommendations}\")\n"
      ],
      "metadata": {
        "colab": {
          "base_uri": "https://localhost:8080/"
        },
        "id": "ijz9bByRoM4u",
        "outputId": "e282d2ce-ae50-4cb9-9316-de1e22b78d2e"
      },
      "execution_count": null,
      "outputs": [
        {
          "output_type": "stream",
          "name": "stdout",
          "text": [
            "Recomendações para ['queijo']: ['pão', 'batata', 'cerveja']\n"
          ]
        }
      ]
    },
    {
      "cell_type": "code",
      "source": [],
      "metadata": {
        "id": "0rj2RGYDmzfs"
      },
      "execution_count": null,
      "outputs": []
    }
  ]
}