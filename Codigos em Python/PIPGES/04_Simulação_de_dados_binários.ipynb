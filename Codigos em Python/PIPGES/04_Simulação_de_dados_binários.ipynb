{
  "nbformat": 4,
  "nbformat_minor": 0,
  "metadata": {
    "colab": {
      "provenance": [],
      "authorship_tag": "ABX9TyM4xeDDDUL8bWzQqCcXdMA6",
      "include_colab_link": true
    },
    "kernelspec": {
      "name": "python3",
      "display_name": "Python 3"
    },
    "language_info": {
      "name": "python"
    }
  },
  "cells": [
    {
      "cell_type": "markdown",
      "metadata": {
        "id": "view-in-github",
        "colab_type": "text"
      },
      "source": [
        "<a href=\"https://colab.research.google.com/github/cibelerusso/Aprendizado_de_Maquina/blob/main/Codigos%20em%20Python/PIPGES/04_Simula%C3%A7%C3%A3o_de_dados_bin%C3%A1rios.ipynb\" target=\"_parent\"><img src=\"https://colab.research.google.com/assets/colab-badge.svg\" alt=\"Open In Colab\"/></a>"
      ]
    },
    {
      "cell_type": "markdown",
      "source": [
        "# EST5534 Aprendizado de Máquina Estatístico\n",
        "\n",
        "\n",
        "por **Cibele Russo**\n",
        "\n",
        "**ICMC/USP - São Carlos SP**\n",
        "\n",
        "\n",
        "## Programa\n",
        "\n",
        "- Simulação de dados com resposta binária\n",
        "- Ajuste por Regressão logística e Naive Bayes"
      ],
      "metadata": {
        "id": "nF5_z_JF9iSY"
      }
    },
    {
      "cell_type": "markdown",
      "source": [
        "# Simulação de dados com resposta binária"
      ],
      "metadata": {
        "id": "Gya0iwBp8-_h"
      }
    },
    {
      "cell_type": "code",
      "source": [
        "import numpy as np\n",
        "import pandas as pd\n",
        "from scipy.stats import logistic\n",
        "from sklearn.model_selection import train_test_split\n",
        "from sklearn.linear_model import LogisticRegression\n",
        "from sklearn.naive_bayes import GaussianNB\n",
        "from sklearn.metrics import accuracy_score, classification_report, roc_curve, auc\n",
        "import matplotlib.pyplot as plt"
      ],
      "metadata": {
        "id": "MedVOOGv92WK"
      },
      "execution_count": 38,
      "outputs": []
    },
    {
      "cell_type": "code",
      "source": [
        "# Define a semente aleatória para reprodutibilidade\n",
        "np.random.seed(123)\n",
        "\n",
        "# Tamanho de cada amostra\n",
        "tamanho_amostra = 100\n",
        "\n",
        "# Número de amostras\n",
        "num_amostras = 1000\n",
        "\n",
        "# Para armazenar as métricas de desempenho\n",
        "precisao_log=[]\n",
        "taxa_erro_log = []\n",
        "auc_log = []\n",
        "precisao_nb=[]\n",
        "taxa_erro_nb = []\n",
        "auc_nb = []\n",
        "\n",
        "# Loop for para realizar a simulação 1000 vezes\n",
        "for _ in range(num_amostras):\n",
        "\n",
        "  # Gere covariáveis para todas as amostras\n",
        "  covariaveis = np.random.rand(tamanho_amostra, 2)\n",
        "\n",
        "  # Defina os coeficientes para as covariáveis e o intercepto\n",
        "  coef_covariavel1 = 2.0\n",
        "  coef_covariavel2 = -1.5\n",
        "  intercepto = 0.5\n",
        "\n",
        "  # Calcule os log-odds para todas as amostras\n",
        "  log_odds = intercepto + coef_covariavel1 * covariaveis[:, 0] + coef_covariavel2 * covariaveis[:, 1]\n",
        "\n",
        "  # Calcule as probabilidades usando a função logística\n",
        "  probabilidades = logistic.cdf(log_odds)\n",
        "\n",
        "  # Gere dados binários para todas as amostras comparando as probabilidades com valores aleatórios\n",
        "  dados_binarios = np.random.rand(tamanho_amostra) < probabilidades\n",
        "\n",
        "  # Redimensione os dados binários para ser um array 1D de tamanho (tamanho_amostra)\n",
        "  dados_binarios = dados_binarios.reshape(-1)\n",
        "\n",
        "  # Crie um DataFrame com os dados binários e covariáveis\n",
        "  dados = {\n",
        "    'Covariavel1': covariaveis[:, 0].reshape(-1),\n",
        "    'Covariavel2': covariaveis[:, 1].reshape(-1),\n",
        "    'Dados Binarios': dados_binarios\n",
        "  }\n",
        "  df = pd.DataFrame(dados)\n",
        "\n",
        "  # Divida os dados em conjuntos de treinamento e teste\n",
        "  X = df[['Covariavel1', 'Covariavel2']]\n",
        "  y = df['Dados Binarios']\n",
        "  X_treino, X_teste, y_treino, y_teste = train_test_split(X, y, test_size=0.2, random_state=42)\n",
        "\n",
        "  # Treine um modelo de Regressão Logística\n",
        "  modelo_logistico = LogisticRegression()\n",
        "  modelo_logistico.fit(X_treino, y_treino)\n",
        "\n",
        "  # Faça previsões usando o modelo de Regressão Logística\n",
        "  previsoes_logisticas = modelo_logistico.predict(X_teste)\n",
        "\n",
        "  # Calcule a precisão\n",
        "  precisao_logistica = accuracy_score(y_teste, previsoes_logisticas)\n",
        "  precisao_log.append(precisao_logistica)\n",
        "\n",
        "  # Calcule a taxa de erro da Regressão Logística\n",
        "  taxa_erro_logistica = 1 - precisao_logistica\n",
        "  taxa_erro_log.append(taxa_erro_logistica)\n",
        "\n",
        "  # Calcule a curva ROC e a AUC para a Regressão Logística\n",
        "  probabilidades_logisticas = modelo_logistico.predict_proba(X_teste)[:, 1]\n",
        "  fpr_logistico, tpr_logistico, _ = roc_curve(y_teste, probabilidades_logisticas)\n",
        "  auc_logistico = auc(fpr_logistico, tpr_logistico)\n",
        "  auc_log.append(auc_logistico)\n",
        "\n",
        "\n",
        "\n",
        "  # Treine um modelo Naive Bayes (Gaussiano)\n",
        "  modelo_naive_bayes = GaussianNB()\n",
        "  modelo_naive_bayes.fit(X_treino, y_treino)\n",
        "\n",
        "  # Faça previsões usando o modelo Naive Bayes\n",
        "  previsoes_naive_bayes = modelo_naive_bayes.predict(X_teste)\n",
        "\n",
        "  # Calcule a precisão\n",
        "  precisao_naive_bayes = accuracy_score(y_teste, previsoes_naive_bayes)\n",
        "  precisao_nb.append(precisao_naive_bayes)\n",
        "\n",
        "  # Calcule a taxa de erro do Naive Bayes\n",
        "  taxa_erro_naive_bayes = 1 - precisao_naive_bayes\n",
        "  taxa_erro_nb.append(taxa_erro_naive_bayes)\n",
        "\n",
        "  # Calcule a curva ROC e a AUC para o Naive Bayes\n",
        "  probabilidades_naive_bayes = modelo_naive_bayes.predict_proba(X_teste)[:, 1]\n",
        "  fpr_naive_bayes, tpr_naive_bayes, _ = roc_curve(y_teste, probabilidades_naive_bayes)\n",
        "  auc_naive_bayes = auc(fpr_naive_bayes, tpr_naive_bayes)\n",
        "  auc_nb.append(auc_naive_bayes)\n",
        "\n",
        "\n"
      ],
      "metadata": {
        "colab": {
          "base_uri": "https://localhost:8080/"
        },
        "id": "8tDDsDc_9BEO",
        "outputId": "125d1f88-e13e-4e5c-cb3a-61a5eeac772f"
      },
      "execution_count": 39,
      "outputs": [
        {
          "output_type": "stream",
          "name": "stderr",
          "text": [
            "/usr/local/lib/python3.10/dist-packages/sklearn/metrics/_ranking.py:1020: UndefinedMetricWarning: No negative samples in y_true, false positive value should be meaningless\n",
            "  warnings.warn(\n",
            "/usr/local/lib/python3.10/dist-packages/sklearn/metrics/_ranking.py:1020: UndefinedMetricWarning: No negative samples in y_true, false positive value should be meaningless\n",
            "  warnings.warn(\n"
          ]
        }
      ]
    },
    {
      "cell_type": "code",
      "source": [
        "print(\"Precisão Média da Regressão Logística:\", np.mean(precisao_log))\n",
        "print(\"Taxa de Erro Médio da Regressão Logística:\", np.mean(taxa_erro_log))\n",
        "print(\"AUC Médio da Regressão Logística:\", np.mean(auc_log))\n",
        "\n",
        "print(\"\\nPrecisão Média Naive Bayes:\", np.mean(precisao_nb))\n",
        "print(\"Taxa de Erro Média Naive Bayes:\", np.mean(taxa_erro_nb))\n",
        "print(\"AUC Média Naive Bayes:\", np.mean(auc_nb))\n",
        "\n",
        "\n"
      ],
      "metadata": {
        "colab": {
          "base_uri": "https://localhost:8080/"
        },
        "id": "K2-RS1tJ_cQ6",
        "outputId": "d9ab8c48-6f8e-4cac-c615-4b1e85d452cc"
      },
      "execution_count": 40,
      "outputs": [
        {
          "output_type": "stream",
          "name": "stdout",
          "text": [
            "Precisão Média da Regressão Logística: 0.6768500000000001\n",
            "Taxa de Erro Médio da Regressão Logística: 0.32315\n",
            "AUC Médio da Regressão Logística: nan\n",
            "\n",
            "Precisão Média Naive Bayes: 0.6761500000000001\n",
            "Taxa de Erro Média Naive Bayes: 0.32384999999999997\n",
            "AUC Média Naive Bayes: nan\n"
          ]
        }
      ]
    },
    {
      "cell_type": "code",
      "source": [
        "print(\"Precisão Média da Regressão Logística:\", np.mean(precisao_log))\n",
        "print(\"Taxa de Erro Médio da Regressão Logística:\", np.mean(taxa_erro_log))\n",
        "print(\"AUC Médio da Regressão Logística:\", np.nanmean(auc_log, axis=0))\n",
        "\n",
        "print(\"\\nPrecisão Média Naive Bayes:\", np.mean(precisao_nb))\n",
        "print(\"Taxa de Erro Média Naive Bayes:\", np.mean(taxa_erro_nb))\n",
        "print(\"AUC Média Naive Bayes:\", np.nanmean(auc_nb, axis=0))\n"
      ],
      "metadata": {
        "colab": {
          "base_uri": "https://localhost:8080/"
        },
        "id": "oAyCTwEcIRjH",
        "outputId": "6e85caa4-554e-46b0-f5ce-bae19025e474"
      },
      "execution_count": 41,
      "outputs": [
        {
          "output_type": "stream",
          "name": "stdout",
          "text": [
            "Precisão Média da Regressão Logística: 0.6768500000000001\n",
            "Taxa de Erro Médio da Regressão Logística: 0.32315\n",
            "AUC Médio da Regressão Logística: 0.6801597059792795\n",
            "\n",
            "Precisão Média Naive Bayes: 0.6761500000000001\n",
            "Taxa de Erro Média Naive Bayes: 0.32384999999999997\n",
            "AUC Média Naive Bayes: 0.6741916312827047\n"
          ]
        }
      ]
    },
    {
      "cell_type": "code",
      "source": [],
      "metadata": {
        "id": "SLK-Jc2nIbHb"
      },
      "execution_count": 41,
      "outputs": []
    }
  ]
}