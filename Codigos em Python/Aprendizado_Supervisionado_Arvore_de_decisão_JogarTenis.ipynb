{
 "cells": [
  {
   "cell_type": "markdown",
   "metadata": {
    "id": "V1xGpxizzAA8"
   },
   "source": [
    "# SME0829 Aprendizado de Máquina\n",
    "\n",
    "\n",
    "por **Cibele Russo**\n",
    "\n",
    "**ICMC/USP - São Carlos SP**\n",
    "\n",
    "\n",
    "\n",
    "## Exemplo Árvore de decisão\n",
    "\n"
   ]
  },
  {
   "cell_type": "code",
   "execution_count": 1,
   "metadata": {
    "colab": {
     "base_uri": "https://localhost:8080/",
     "height": 488
    },
    "executionInfo": {
     "elapsed": 1070,
     "status": "ok",
     "timestamp": 1683159769885,
     "user": {
      "displayName": "Cibele Russo",
      "userId": "07272141402608887263"
     },
     "user_tz": 180
    },
    "id": "H3VzPU_GIxvP",
    "outputId": "c8f27a5e-bac9-4d1b-e35c-7eb3d9765ba3"
   },
   "outputs": [
    {
     "data": {
      "text/html": [
       "<div>\n",
       "<style scoped>\n",
       "    .dataframe tbody tr th:only-of-type {\n",
       "        vertical-align: middle;\n",
       "    }\n",
       "\n",
       "    .dataframe tbody tr th {\n",
       "        vertical-align: top;\n",
       "    }\n",
       "\n",
       "    .dataframe thead th {\n",
       "        text-align: right;\n",
       "    }\n",
       "</style>\n",
       "<table border=\"1\" class=\"dataframe\">\n",
       "  <thead>\n",
       "    <tr style=\"text-align: right;\">\n",
       "      <th></th>\n",
       "      <th>Tempo</th>\n",
       "      <th>Temperatura</th>\n",
       "      <th>Umidade</th>\n",
       "      <th>Vento</th>\n",
       "      <th>Joga</th>\n",
       "    </tr>\n",
       "  </thead>\n",
       "  <tbody>\n",
       "    <tr>\n",
       "      <th>0</th>\n",
       "      <td>Chuvoso</td>\n",
       "      <td>22</td>\n",
       "      <td>91</td>\n",
       "      <td>Sim</td>\n",
       "      <td>Não</td>\n",
       "    </tr>\n",
       "    <tr>\n",
       "      <th>1</th>\n",
       "      <td>Ensolarado</td>\n",
       "      <td>21</td>\n",
       "      <td>70</td>\n",
       "      <td>Não</td>\n",
       "      <td>Sim</td>\n",
       "    </tr>\n",
       "    <tr>\n",
       "      <th>2</th>\n",
       "      <td>Ensolarado</td>\n",
       "      <td>27</td>\n",
       "      <td>90</td>\n",
       "      <td>Sim</td>\n",
       "      <td>Não</td>\n",
       "    </tr>\n",
       "    <tr>\n",
       "      <th>3</th>\n",
       "      <td>Nublado</td>\n",
       "      <td>28</td>\n",
       "      <td>86</td>\n",
       "      <td>Não</td>\n",
       "      <td>Sim</td>\n",
       "    </tr>\n",
       "    <tr>\n",
       "      <th>4</th>\n",
       "      <td>Chuvoso</td>\n",
       "      <td>21</td>\n",
       "      <td>96</td>\n",
       "      <td>Não</td>\n",
       "      <td>Sim</td>\n",
       "    </tr>\n",
       "    <tr>\n",
       "      <th>5</th>\n",
       "      <td>Chuvoso</td>\n",
       "      <td>18</td>\n",
       "      <td>70</td>\n",
       "      <td>Sim</td>\n",
       "      <td>Não</td>\n",
       "    </tr>\n",
       "    <tr>\n",
       "      <th>6</th>\n",
       "      <td>Nublado</td>\n",
       "      <td>18</td>\n",
       "      <td>65</td>\n",
       "      <td>Sim</td>\n",
       "      <td>Sim</td>\n",
       "    </tr>\n",
       "    <tr>\n",
       "      <th>7</th>\n",
       "      <td>Nublado</td>\n",
       "      <td>22</td>\n",
       "      <td>90</td>\n",
       "      <td>Sim</td>\n",
       "      <td>Sim</td>\n",
       "    </tr>\n",
       "    <tr>\n",
       "      <th>8</th>\n",
       "      <td>Ensolarado</td>\n",
       "      <td>24</td>\n",
       "      <td>70</td>\n",
       "      <td>Sim</td>\n",
       "      <td>Sim</td>\n",
       "    </tr>\n",
       "    <tr>\n",
       "      <th>9</th>\n",
       "      <td>Chuvoso</td>\n",
       "      <td>20</td>\n",
       "      <td>80</td>\n",
       "      <td>Não</td>\n",
       "      <td>Sim</td>\n",
       "    </tr>\n",
       "    <tr>\n",
       "      <th>10</th>\n",
       "      <td>Nublado</td>\n",
       "      <td>27</td>\n",
       "      <td>75</td>\n",
       "      <td>Não</td>\n",
       "      <td>Sim</td>\n",
       "    </tr>\n",
       "    <tr>\n",
       "      <th>11</th>\n",
       "      <td>Ensolarado</td>\n",
       "      <td>29</td>\n",
       "      <td>85</td>\n",
       "      <td>Não</td>\n",
       "      <td>Não</td>\n",
       "    </tr>\n",
       "    <tr>\n",
       "      <th>12</th>\n",
       "      <td>Ensolarado</td>\n",
       "      <td>22</td>\n",
       "      <td>95</td>\n",
       "      <td>Não</td>\n",
       "      <td>Não</td>\n",
       "    </tr>\n",
       "    <tr>\n",
       "      <th>13</th>\n",
       "      <td>Chuvoso</td>\n",
       "      <td>24</td>\n",
       "      <td>80</td>\n",
       "      <td>Não</td>\n",
       "      <td>Sim</td>\n",
       "    </tr>\n",
       "  </tbody>\n",
       "</table>\n",
       "</div>"
      ],
      "text/plain": [
       "         Tempo  Temperatura  Umidade Vento Joga\n",
       "0      Chuvoso           22       91   Sim  Não\n",
       "1   Ensolarado           21       70   Não  Sim\n",
       "2   Ensolarado           27       90   Sim  Não\n",
       "3      Nublado           28       86   Não  Sim\n",
       "4      Chuvoso           21       96   Não  Sim\n",
       "5      Chuvoso           18       70   Sim  Não\n",
       "6      Nublado           18       65   Sim  Sim\n",
       "7      Nublado           22       90   Sim  Sim\n",
       "8   Ensolarado           24       70   Sim  Sim\n",
       "9      Chuvoso           20       80   Não  Sim\n",
       "10     Nublado           27       75   Não  Sim\n",
       "11  Ensolarado           29       85   Não  Não\n",
       "12  Ensolarado           22       95   Não  Não\n",
       "13     Chuvoso           24       80   Não  Sim"
      ]
     },
     "execution_count": 1,
     "metadata": {},
     "output_type": "execute_result"
    }
   ],
   "source": [
    "import numpy as np\n",
    "import pandas as pd\n",
    "import matplotlib.pyplot as plt\n",
    "from sklearn.tree import DecisionTreeClassifier\n",
    "from sklearn.tree import plot_tree\n",
    "from sklearn.model_selection import train_test_split\n",
    "from sklearn.metrics import accuracy_score\n",
    "\n",
    "import random\n",
    "\n",
    "random.seed(1)\n",
    "\n",
    "# Carregando os dados\n",
    "dados = pd.read_csv('https://raw.githubusercontent.com/cibelerusso/Aprendizado_de_Maquina/main/Dados/JogarTenis.csv')\n",
    "dados.head(14)\n"
   ]
  },
  {
   "cell_type": "code",
   "execution_count": 2,
   "metadata": {
    "colab": {
     "base_uri": "https://localhost:8080/"
    },
    "executionInfo": {
     "elapsed": 3,
     "status": "ok",
     "timestamp": 1683160167444,
     "user": {
      "displayName": "Cibele Russo",
      "userId": "07272141402608887263"
     },
     "user_tz": 180
    },
    "id": "onZfrc2YKLiF",
    "outputId": "bceb040f-be2d-4045-c7a0-faf9ac6cdfde"
   },
   "outputs": [
    {
     "data": {
      "text/plain": [
       "0.9402859586706311"
      ]
     },
     "execution_count": 2,
     "metadata": {},
     "output_type": "execute_result"
    }
   ],
   "source": [
    "-9/14*np.log2(9/14)-5/14*np.log2(5/14)"
   ]
  },
  {
   "cell_type": "code",
   "execution_count": 3,
   "metadata": {
    "id": "GncLeSXCIxvQ"
   },
   "outputs": [],
   "source": [
    "#dados['Tempo'] = dados['Tempo'].astype('category')"
   ]
  },
  {
   "cell_type": "code",
   "execution_count": 4,
   "metadata": {
    "id": "afZScs3VIxvR",
    "outputId": "c936251d-b06a-4aa6-b412-cc912261686c"
   },
   "outputs": [
    {
     "data": {
      "text/html": [
       "<div>\n",
       "<style scoped>\n",
       "    .dataframe tbody tr th:only-of-type {\n",
       "        vertical-align: middle;\n",
       "    }\n",
       "\n",
       "    .dataframe tbody tr th {\n",
       "        vertical-align: top;\n",
       "    }\n",
       "\n",
       "    .dataframe thead th {\n",
       "        text-align: right;\n",
       "    }\n",
       "</style>\n",
       "<table border=\"1\" class=\"dataframe\">\n",
       "  <thead>\n",
       "    <tr style=\"text-align: right;\">\n",
       "      <th></th>\n",
       "      <th>Tempo</th>\n",
       "      <th>Temperatura</th>\n",
       "      <th>Umidade</th>\n",
       "      <th>Vento</th>\n",
       "      <th>Joga</th>\n",
       "    </tr>\n",
       "  </thead>\n",
       "  <tbody>\n",
       "    <tr>\n",
       "      <th>0</th>\n",
       "      <td>3</td>\n",
       "      <td>22</td>\n",
       "      <td>91</td>\n",
       "      <td>1</td>\n",
       "      <td>0</td>\n",
       "    </tr>\n",
       "    <tr>\n",
       "      <th>1</th>\n",
       "      <td>1</td>\n",
       "      <td>21</td>\n",
       "      <td>70</td>\n",
       "      <td>0</td>\n",
       "      <td>1</td>\n",
       "    </tr>\n",
       "    <tr>\n",
       "      <th>2</th>\n",
       "      <td>1</td>\n",
       "      <td>27</td>\n",
       "      <td>90</td>\n",
       "      <td>1</td>\n",
       "      <td>0</td>\n",
       "    </tr>\n",
       "    <tr>\n",
       "      <th>3</th>\n",
       "      <td>2</td>\n",
       "      <td>28</td>\n",
       "      <td>86</td>\n",
       "      <td>0</td>\n",
       "      <td>1</td>\n",
       "    </tr>\n",
       "    <tr>\n",
       "      <th>4</th>\n",
       "      <td>3</td>\n",
       "      <td>21</td>\n",
       "      <td>96</td>\n",
       "      <td>0</td>\n",
       "      <td>1</td>\n",
       "    </tr>\n",
       "    <tr>\n",
       "      <th>5</th>\n",
       "      <td>3</td>\n",
       "      <td>18</td>\n",
       "      <td>70</td>\n",
       "      <td>1</td>\n",
       "      <td>0</td>\n",
       "    </tr>\n",
       "    <tr>\n",
       "      <th>6</th>\n",
       "      <td>2</td>\n",
       "      <td>18</td>\n",
       "      <td>65</td>\n",
       "      <td>1</td>\n",
       "      <td>1</td>\n",
       "    </tr>\n",
       "    <tr>\n",
       "      <th>7</th>\n",
       "      <td>2</td>\n",
       "      <td>22</td>\n",
       "      <td>90</td>\n",
       "      <td>1</td>\n",
       "      <td>1</td>\n",
       "    </tr>\n",
       "    <tr>\n",
       "      <th>8</th>\n",
       "      <td>1</td>\n",
       "      <td>24</td>\n",
       "      <td>70</td>\n",
       "      <td>1</td>\n",
       "      <td>1</td>\n",
       "    </tr>\n",
       "    <tr>\n",
       "      <th>9</th>\n",
       "      <td>3</td>\n",
       "      <td>20</td>\n",
       "      <td>80</td>\n",
       "      <td>0</td>\n",
       "      <td>1</td>\n",
       "    </tr>\n",
       "    <tr>\n",
       "      <th>10</th>\n",
       "      <td>2</td>\n",
       "      <td>27</td>\n",
       "      <td>75</td>\n",
       "      <td>0</td>\n",
       "      <td>1</td>\n",
       "    </tr>\n",
       "    <tr>\n",
       "      <th>11</th>\n",
       "      <td>1</td>\n",
       "      <td>29</td>\n",
       "      <td>85</td>\n",
       "      <td>0</td>\n",
       "      <td>0</td>\n",
       "    </tr>\n",
       "    <tr>\n",
       "      <th>12</th>\n",
       "      <td>1</td>\n",
       "      <td>22</td>\n",
       "      <td>95</td>\n",
       "      <td>0</td>\n",
       "      <td>0</td>\n",
       "    </tr>\n",
       "    <tr>\n",
       "      <th>13</th>\n",
       "      <td>3</td>\n",
       "      <td>24</td>\n",
       "      <td>80</td>\n",
       "      <td>0</td>\n",
       "      <td>1</td>\n",
       "    </tr>\n",
       "  </tbody>\n",
       "</table>\n",
       "</div>"
      ],
      "text/plain": [
       "    Tempo  Temperatura  Umidade  Vento  Joga\n",
       "0       3           22       91      1     0\n",
       "1       1           21       70      0     1\n",
       "2       1           27       90      1     0\n",
       "3       2           28       86      0     1\n",
       "4       3           21       96      0     1\n",
       "5       3           18       70      1     0\n",
       "6       2           18       65      1     1\n",
       "7       2           22       90      1     1\n",
       "8       1           24       70      1     1\n",
       "9       3           20       80      0     1\n",
       "10      2           27       75      0     1\n",
       "11      1           29       85      0     0\n",
       "12      1           22       95      0     0\n",
       "13      3           24       80      0     1"
      ]
     },
     "execution_count": 4,
     "metadata": {},
     "output_type": "execute_result"
    }
   ],
   "source": [
    "# Converte as colunas categóricas em números\n",
    "converte = {'Ensolarado': 1, 'Nublado': 2, 'Chuvoso': 3, 'Sim': 1, 'Não': 0}\n",
    "dados = dados.applymap(lambda s: converte.get(s) if s in converte else s)\n",
    "dados"
   ]
  },
  {
   "cell_type": "code",
   "execution_count": 5,
   "metadata": {
    "id": "XK0UhefCIxvS"
   },
   "outputs": [],
   "source": [
    "# Separa as preditoras (X) e a resposta (y)\n",
    "X = dados.drop('Joga', axis=1)\n",
    "y = dados['Joga']"
   ]
  },
  {
   "cell_type": "code",
   "execution_count": 6,
   "metadata": {
    "id": "IAjlOTjWIxvS"
   },
   "outputs": [],
   "source": [
    "# dados de treinamento e teste: 80% para treinamento e 20% para teste\n",
    "X_train, X_test, y_train, y_test = train_test_split(X, y, test_size=0.2, random_state=42)\n"
   ]
  },
  {
   "cell_type": "code",
   "execution_count": 7,
   "metadata": {
    "id": "yiGFd7TRIxvT"
   },
   "outputs": [],
   "source": [
    "# Cria uma árvore de decisão\n",
    "arvore = DecisionTreeClassifier(max_depth=5)\n",
    "\n",
    "# Treina a árvore de decisão usando os dados de treinamento\n",
    "arvore.fit(X_train, y_train)\n",
    "\n",
    "# Usa a árvore de decisão para prever os rótulos da base de teste\n",
    "y_pred = arvore.predict(X_test)\n"
   ]
  },
  {
   "cell_type": "code",
   "execution_count": 8,
   "metadata": {
    "id": "mFFDeOShIxvT",
    "outputId": "f04e17f0-a015-4248-86ff-1a4f1d250a6c"
   },
   "outputs": [
    {
     "data": {
      "image/png": "[encoded data removed]",
      "text/plain": [
       "<Figure size 1800x720 with 1 Axes>"
      ]
     },
     "metadata": {
      "needs_background": "light"
     },
     "output_type": "display_data"
    }
   ],
   "source": [
    "plt.figure(figsize=(25,10))\n",
    "a = plot_tree(arvore, \n",
    "              feature_names=['Tempo', 'Temperatura', 'Umidade', 'Vento'],\n",
    "              class_names=['Não', 'Sim'], \n",
    "              filled=True, \n",
    "              rounded=True, \n",
    "              fontsize=14)"
   ]
  },
  {
   "cell_type": "code",
   "execution_count": 9,
   "metadata": {
    "id": "VKQt817jIxvU",
    "outputId": "68640a8b-f585-4ac7-d9a7-ff8df2d94e6b"
   },
   "outputs": [
    {
     "name": "stdout",
     "output_type": "stream",
     "text": [
      "Métricas de desempenho para aprendizado supervisionado em classificação binária\n",
      "\n",
      "Acurácia: 0.667\n",
      "\n",
      "Precisão (para a classe 1): 0.5\n",
      "Recall (para a classe 1): 1.0\n",
      "F1-score (para a classe 1): 0.667\n",
      "\n",
      "Precisão (para a classe 0): 1.0\n",
      "Recall (para a classe 0): 0.5\n",
      "F1-score (para a classe 0): 0.667\n"
     ]
    }
   ],
   "source": [
    "from sklearn.metrics import accuracy_score\n",
    "from sklearn.metrics import precision_score\n",
    "from sklearn.metrics import recall_score\n",
    "from sklearn.metrics import f1_score\n",
    "\n",
    "# Acurácia\n",
    "acc = accuracy_score(y_test, y_pred)\n",
    "\n",
    "print('Métricas de desempenho para aprendizado supervisionado em classificação binária')\n",
    "print(\"\\nAcurácia:\", np.round(acc,3))\n",
    "\n",
    "# Para a classe 1\n",
    "precision = precision_score(y_test, y_pred, pos_label=1)\n",
    "recall = recall_score(y_test, y_pred, pos_label=1)\n",
    "f1 = f1_score(y_test, y_pred, pos_label=1)\n",
    "print(\"\\nPrecisão (para a classe 1):\", np.round(precision,3))\n",
    "print(\"Recall (para a classe 1):\", np.round(recall,3))\n",
    "print(\"F1-score (para a classe 1):\", np.round(f1,3))\n",
    "\n",
    "# Para a classe 0\n",
    "precision = precision_score(y_test, y_pred, pos_label=0)\n",
    "recall = recall_score(y_test, y_pred, pos_label=0)\n",
    "f1 = f1_score(y_test, y_pred, pos_label=0)\n",
    "print(\"\\nPrecisão (para a classe 0):\", np.round(precision,3))\n",
    "print(\"Recall (para a classe 0):\", np.round(recall,3))\n",
    "print(\"F1-score (para a classe 0):\", np.round(f1,3))"
   ]
  },
  {
   "cell_type": "code",
   "execution_count": null,
   "metadata": {},
   "outputs": [],
   "source": []
  },
  {
   "cell_type": "code",
   "execution_count": 10,
   "metadata": {},
   "outputs": [
    {
     "name": "stdout",
     "output_type": "stream",
     "text": [
      "Melhores parâmetros: {'max_depth': 1, 'min_samples_leaf': 4, 'min_samples_split': 2}\n",
      "Acurácia da melhor árvore: 0.7222222222222222\n"
     ]
    }
   ],
   "source": [
    "from sklearn.model_selection import GridSearchCV\n",
    "\n",
    "# Uso da validação cruzada para encontar a melhor árvore\n",
    "param_grid = {\n",
    "    'max_depth': range(1, 4),\n",
    "    'min_samples_split': range(2, 5),\n",
    "    'min_samples_leaf': range(1, 14)\n",
    "}\n",
    "\n",
    "# Realiza a busca em grid com cross-validation para encontrar a melhor árvore\n",
    "grid = GridSearchCV(arvore, param_grid, cv=3)\n",
    "grid.fit(X_train, y_train)\n",
    "\n",
    "# Usa a árvore de decisão para prever os rótulos da base de teste\n",
    "y_pred = grid.predict(X_test)\n",
    "\n",
    "# Melhor árvore escolhida\n",
    "print(f\"Melhores parâmetros: {grid.best_params_}\")\n",
    "print(f\"Acurácia da melhor árvore: {grid.best_score_}\")"
   ]
  },
  {
   "cell_type": "code",
   "execution_count": 11,
   "metadata": {},
   "outputs": [
    {
     "name": "stdout",
     "output_type": "stream",
     "text": [
      "Métricas de desempenho para aprendizado supervisionado em classificação binária\n",
      "\n",
      "Acurácia: 0.667\n",
      "\n",
      "Precisão (para a classe 1): 0.5\n",
      "Recall (para a classe 1): 1.0\n",
      "F1-score (para a classe 1): 0.667\n",
      "\n",
      "Precisão (para a classe 0): 1.0\n",
      "Recall (para a classe 0): 0.5\n",
      "F1-score (para a classe 0): 0.667\n"
     ]
    }
   ],
   "source": [
    "# Acurácia\n",
    "acc = accuracy_score(y_test, y_pred)\n",
    "\n",
    "print('Métricas de desempenho para aprendizado supervisionado em classificação binária')\n",
    "print(\"\\nAcurácia:\", np.round(acc,3))\n",
    "\n",
    "# Para a classe 1\n",
    "precision = precision_score(y_test, y_pred, pos_label=1)\n",
    "recall = recall_score(y_test, y_pred, pos_label=1)\n",
    "f1 = f1_score(y_test, y_pred, pos_label=1)\n",
    "print(\"\\nPrecisão (para a classe 1):\", np.round(precision,3))\n",
    "print(\"Recall (para a classe 1):\", np.round(recall,3))\n",
    "print(\"F1-score (para a classe 1):\", np.round(f1,3))\n",
    "\n",
    "# Para a classe 0\n",
    "precision = precision_score(y_test, y_pred, pos_label=0)\n",
    "recall = recall_score(y_test, y_pred, pos_label=0)\n",
    "f1 = f1_score(y_test, y_pred, pos_label=0)\n",
    "print(\"\\nPrecisão (para a classe 0):\", np.round(precision,3))\n",
    "print(\"Recall (para a classe 0):\", np.round(recall,3))\n",
    "print(\"F1-score (para a classe 0):\", np.round(f1,3))"
   ]
  },
  {
   "cell_type": "markdown",
   "metadata": {},
   "source": [
    "# Exemplo Bagging"
   ]
  },
  {
   "cell_type": "code",
   "execution_count": 12,
   "metadata": {},
   "outputs": [
    {
     "name": "stdout",
     "output_type": "stream",
     "text": [
      "Métricas de desempenho para aprendizado supervisionado em classificação binária\n",
      "\n",
      "Acurácia: 0.333\n",
      "\n",
      "Precisão (para a classe 1): 0.333\n",
      "Recall (para a classe 1): 1.0\n",
      "F1-score (para a classe 1): 0.5\n",
      "\n",
      "Precisão (para a classe 0): 0.0\n",
      "Recall (para a classe 0): 0.0\n",
      "F1-score (para a classe 0): 0.0\n"
     ]
    },
    {
     "name": "stderr",
     "output_type": "stream",
     "text": [
      "/home/cibele/.local/lib/python3.9/site-packages/sklearn/metrics/_classification.py:1248: UndefinedMetricWarning: Precision is ill-defined and being set to 0.0 due to no predicted samples. Use `zero_division` parameter to control this behavior.\n",
      "  _warn_prf(average, modifier, msg_start, len(result))\n"
     ]
    }
   ],
   "source": [
    "from sklearn.ensemble import BaggingClassifier\n",
    "\n",
    "# Inicializa o classificador por árvore de decisão\n",
    "tree = DecisionTreeClassifier()\n",
    "\n",
    "# Inicializa o classificador por Bagging \n",
    "bagging = BaggingClassifier(base_estimator=tree, n_estimators=10, random_state=42)\n",
    "\n",
    "# Ajusta o classificador por Bagging aos dados de treinamento\n",
    "bagging.fit(X_train, y_train)\n",
    "\n",
    "# Avalia a performance do classificador por Bagging nos dados de teste \n",
    "score = bagging.score(X_test, y_test)\n",
    "\n",
    "# Prediz a resposta para a base de teste\n",
    "y_pred = bagging.predict(X_test)\n",
    "\n",
    "# Avalia a performance do classificador por Bagging nos dados de teste \n",
    "score = bagging.score(X_test, y_test)\n",
    "\n",
    "\n",
    "\n",
    "print('Métricas de desempenho para aprendizado supervisionado em classificação binária')\n",
    "print(\"\\nAcurácia:\", np.round(score,3))\n",
    "\n",
    "# Para a classe 1\n",
    "precision = precision_score(y_test, y_pred, pos_label=1)\n",
    "recall = recall_score(y_test, y_pred, pos_label=1)\n",
    "f1 = f1_score(y_test, y_pred, pos_label=1)\n",
    "print(\"\\nPrecisão (para a classe 1):\", np.round(precision,3))\n",
    "print(\"Recall (para a classe 1):\", np.round(recall,3))\n",
    "print(\"F1-score (para a classe 1):\", np.round(f1,3))\n",
    "\n",
    "# Para a classe 0\n",
    "precision = precision_score(y_test, y_pred, pos_label=0)\n",
    "recall = recall_score(y_test, y_pred, pos_label=0)\n",
    "f1 = f1_score(y_test, y_pred, pos_label=0)\n",
    "print(\"\\nPrecisão (para a classe 0):\", np.round(precision,3))\n",
    "print(\"Recall (para a classe 0):\", np.round(recall,3))\n",
    "print(\"F1-score (para a classe 0):\", np.round(f1,3))"
   ]
  },
  {
   "cell_type": "markdown",
   "metadata": {
    "id": "dt59T6pMIxvV"
   },
   "source": [
    "# Exemplo Boosting"
   ]
  },
  {
   "cell_type": "code",
   "execution_count": 13,
   "metadata": {
    "id": "FRlV-sBPIxvW"
   },
   "outputs": [
    {
     "name": "stdout",
     "output_type": "stream",
     "text": [
      "Métricas de desempenho para aprendizado supervisionado em classificação binária\n",
      "\n",
      "Acurácia: 0.667\n",
      "\n",
      "Precisão (para a classe 1): 0.5\n",
      "Recall (para a classe 1): 1.0\n",
      "F1-score (para a classe 1): 0.667\n",
      "\n",
      "Precisão (para a classe 0): 1.0\n",
      "Recall (para a classe 0): 0.5\n",
      "F1-score (para a classe 0): 0.667\n"
     ]
    }
   ],
   "source": [
    "from sklearn.ensemble import AdaBoostClassifier\n",
    "\n",
    "# Inicializa o classificador por árvore de decisão\n",
    "tree = DecisionTreeClassifier(max_depth=3)\n",
    "\n",
    "# Inicializa o classificador AdaBoost\n",
    "adaboost = AdaBoostClassifier(base_estimator=tree, n_estimators=50, learning_rate=1, random_state=42)\n",
    "\n",
    "# Ajusta o classificador AdaBoost aos dados de treinamento\n",
    "adaboost.fit(X_train, y_train)\n",
    "\n",
    "# Avalia a performance do classificador AdaBoost nos dados de teste \n",
    "score = adaboost.score(X_test, y_test)\n",
    "\n",
    "# Prediz para a base de teste\n",
    "y_pred = adaboost.predict(X_test)\n",
    "\n",
    "# Avalia a performance do classificador AdaBoost nos dados de teste \n",
    "score = adaboost.score(X_test, y_test)\n",
    "\n",
    "\n",
    "\n",
    "print('Métricas de desempenho para aprendizado supervisionado em classificação binária')\n",
    "print(\"\\nAcurácia:\", np.round(score,3))\n",
    "\n",
    "# Para a classe 1\n",
    "precision = precision_score(y_test, y_pred, pos_label=1)\n",
    "recall = recall_score(y_test, y_pred, pos_label=1)\n",
    "f1 = f1_score(y_test, y_pred, pos_label=1)\n",
    "print(\"\\nPrecisão (para a classe 1):\", np.round(precision,3))\n",
    "print(\"Recall (para a classe 1):\", np.round(recall,3))\n",
    "print(\"F1-score (para a classe 1):\", np.round(f1,3))\n",
    "\n",
    "# Para a classe 0\n",
    "precision = precision_score(y_test, y_pred, pos_label=0)\n",
    "recall = recall_score(y_test, y_pred, pos_label=0)\n",
    "f1 = f1_score(y_test, y_pred, pos_label=0)\n",
    "print(\"\\nPrecisão (para a classe 0):\", np.round(precision,3))\n",
    "print(\"Recall (para a classe 0):\", np.round(recall,3))\n",
    "print(\"F1-score (para a classe 0):\", np.round(f1,3))"
   ]
  },
  {
   "cell_type": "markdown",
   "metadata": {},
   "source": [
    "# Exemplo Florestas aleatórias\n"
   ]
  },
  {
   "cell_type": "code",
   "execution_count": 14,
   "metadata": {},
   "outputs": [
    {
     "name": "stdout",
     "output_type": "stream",
     "text": [
      "Métricas de desempenho para aprendizado supervisionado em classificação binária\n",
      "\n",
      "Acurácia: 0.333\n",
      "\n",
      "Precisão (para a classe 1): 0.333\n",
      "Recall (para a classe 1): 1.0\n",
      "F1-score (para a classe 1): 0.5\n",
      "\n",
      "Precisão (para a classe 0): 0.0\n",
      "Recall (para a classe 0): 0.0\n",
      "F1-score (para a classe 0): 0.0\n"
     ]
    },
    {
     "name": "stderr",
     "output_type": "stream",
     "text": [
      "/home/cibele/.local/lib/python3.9/site-packages/sklearn/metrics/_classification.py:1248: UndefinedMetricWarning: Precision is ill-defined and being set to 0.0 due to no predicted samples. Use `zero_division` parameter to control this behavior.\n",
      "  _warn_prf(average, modifier, msg_start, len(result))\n"
     ]
    }
   ],
   "source": [
    "from sklearn.ensemble import RandomForestClassifier\n",
    "\n",
    "# Ajusta um classificador por florestas aleatórias\n",
    "clf = RandomForestClassifier(n_estimators=200, random_state=10)\n",
    "clf.fit(X_train, y_train)\n",
    "\n",
    "# Obtém predições para a base de teste\n",
    "y_pred = clf.predict(X_test)\n",
    "\n",
    "# Avalia a performance do classificador por florestas aleatórias nos dados de teste \n",
    "acc = accuracy_score(y_test, y_pred)\n",
    "\n",
    "\n",
    "\n",
    "print('Métricas de desempenho para aprendizado supervisionado em classificação binária')\n",
    "print(\"\\nAcurácia:\", np.round(acc,3))\n",
    "\n",
    "# Para a classe 1\n",
    "precision = precision_score(y_test, y_pred, pos_label=1)\n",
    "recall = recall_score(y_test, y_pred, pos_label=1)\n",
    "f1 = f1_score(y_test, y_pred, pos_label=1)\n",
    "print(\"\\nPrecisão (para a classe 1):\", np.round(precision,3))\n",
    "print(\"Recall (para a classe 1):\", np.round(recall,3))\n",
    "print(\"F1-score (para a classe 1):\", np.round(f1,3))\n",
    "\n",
    "# Para a classe 0\n",
    "precision = precision_score(y_test, y_pred, pos_label=0)\n",
    "recall = recall_score(y_test, y_pred, pos_label=0)\n",
    "f1 = f1_score(y_test, y_pred, pos_label=0)\n",
    "print(\"\\nPrecisão (para a classe 0):\", np.round(precision,3))\n",
    "print(\"Recall (para a classe 0):\", np.round(recall,3))\n",
    "print(\"F1-score (para a classe 0):\", np.round(f1,3))"
   ]
  },
  {
   "cell_type": "code",
   "execution_count": null,
   "metadata": {},
   "outputs": [],
   "source": []
  }
 ],
 "metadata": {
  "colab": {
   "provenance": []
  },
  "kernelspec": {
   "display_name": "Python 3 (ipykernel)",
   "language": "python",
   "name": "python3"
  },
  "language_info": {
   "codemirror_mode": {
    "name": "ipython",
    "version": 3
   },
   "file_extension": ".py",
   "mimetype": "text/x-python",
   "name": "python",
   "nbconvert_exporter": "python",
   "pygments_lexer": "ipython3",
   "version": "3.9.5"
  }
 },
 "nbformat": 4,
 "nbformat_minor": 1
}
